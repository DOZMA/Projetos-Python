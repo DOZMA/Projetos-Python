{
 "cells": [
  {
   "cell_type": "code",
   "execution_count": 2,
   "id": "331bfef8",
   "metadata": {},
   "outputs": [],
   "source": [
    "from selenium import webdriver\n",
    "from selenium.webdriver.common.keys import Keys\n",
    "from bs4 import BeautifulSoup\n",
    "from selenium.webdriver.chrome.options import Options\n",
    "from selenium.webdriver.common.by import By"
   ]
  },
  {
   "cell_type": "code",
   "execution_count": 3,
   "id": "a4ba69a7",
   "metadata": {},
   "outputs": [],
   "source": [
    "chrome_options = Options()\n",
    "chrome_options.headless = True\n",
    "navegador = webdriver.Chrome(options=chrome_options)\n",
    "#Acessando o site da amazon\n",
    "navegador.get(\"https://www.amazon.com.br/\")\n",
    "#Pesquisando no site\n",
    "navegador.find_element(By.XPATH,'//*[@id=\"twotabsearchtextbox\"]').send_keys('Smirnoff')\n",
    "navegador.find_element(By.XPATH,'//*[@id=\"twotabsearchtextbox\"]').send_keys(Keys.ENTER)"
   ]
  },
  {
   "cell_type": "code",
   "execution_count": 4,
   "id": "e1aed392",
   "metadata": {},
   "outputs": [],
   "source": [
    "soup = BeautifulSoup(navegador.page_source, 'html.parser')\n",
    "resultados = soup.find_all('div', {'data-component-type': 's-search-result'})"
   ]
  },
  {
   "cell_type": "code",
   "execution_count": 5,
   "id": "194d3d8d",
   "metadata": {},
   "outputs": [],
   "source": [
    "#Filtrando os resultados\n",
    "item = resultados[0]\n",
    "atag = item.h2.a\n",
    "descricao = atag.text.strip()\n",
    "preco_proximo = item.find('span', 'a-price')\n",
    "preco = preco_proximo.find('span', 'a-offscreen').text"
   ]
  },
  {
   "cell_type": "code",
   "execution_count": 7,
   "id": "29a0d93e",
   "metadata": {},
   "outputs": [],
   "source": [
    "def extraindo_registros(item):\n",
    "    \n",
    "    #Descrição do produto\n",
    "    atag = item.h2.a\n",
    "    descricao = atag.text.strip()\n",
    "    \n",
    "    \n",
    "    try:\n",
    "    #Valor do produto\n",
    "        preco_proximo= item.find('span', 'a-price')\n",
    "        preco= preco_proximo.find('span', 'a-offscreen').text\n",
    "        \n",
    "        result = (descricao, preco)\n",
    "        return result\n",
    "    except AttributeError:\n",
    "        preco= 'indisponível'\n",
    "\n",
    "        result = (descricao, preco)       \n",
    "        return result"
   ]
  },
  {
   "cell_type": "code",
   "execution_count": 6,
   "id": "6d11ba9c",
   "metadata": {},
   "outputs": [],
   "source": [
    "registros = []\n",
    "resultados = soup.find_all('div', {'data-component-type': 's-search-result'})\n",
    "\n",
    "for item in resultados:\n",
    "    registro = extraindo_registros(item)\n",
    "    if registro:\n",
    "        registros.append(registro)"
   ]
  },
  {
   "cell_type": "code",
   "execution_count": 7,
   "id": "843e581b",
   "metadata": {},
   "outputs": [],
   "source": [
    "import pandas as pd\n",
    "from selenium import webdriver\n",
    "from selenium.webdriver.common.keys import Keys\n",
    "from bs4 import BeautifulSoup\n",
    "from selenium.webdriver.edge.options import Options\n",
    "from msedge.selenium_tools import Edge, EdgeOptions\n",
    "    \n",
    "    \n",
    "def extraindo_registros(item):\n",
    "    \n",
    "#Descrição do produto\n",
    "    atag = item.h2.a\n",
    "    descricao = atag.text.strip()\n",
    "    \n",
    "    try:\n",
    "    #Valor do produto\n",
    "        preco_proximo= item.find('span', 'a-price')\n",
    "        preco=preco_proximo.find('span', 'a-offscreen').text\n",
    "  \n",
    "        \n",
    "        \n",
    "    except AttributeError:\n",
    "        preco=' '\n",
    "   \n",
    "    \n",
    "        result = (descricao, preco)\n",
    "        \n",
    "    return result\n",
    "        \n",
    "    \n",
    "\n",
    " \n",
    " \n",
    "# Criando uma planilha em excel para colocar os resultados encontrados   \n",
    "dados = pd.DataFrame(data = registros)\n",
    "dados.columns=('Produto', 'Peço')\n",
    "dados.to_excel('resultado.xlsx', sheet_name='WHISKY', header= True, index=False)"
   ]
  },
  {
   "cell_type": "code",
   "execution_count": null,
   "id": "964225e6",
   "metadata": {},
   "outputs": [],
   "source": []
  },
  {
   "cell_type": "code",
   "execution_count": null,
   "id": "4c340383",
   "metadata": {},
   "outputs": [],
   "source": []
  },
  {
   "cell_type": "code",
   "execution_count": null,
   "id": "5f313fd0",
   "metadata": {},
   "outputs": [],
   "source": [
    "\n"
   ]
  }
 ],
 "metadata": {
  "kernelspec": {
   "display_name": "Python 3 (ipykernel)",
   "language": "python",
   "name": "python3"
  },
  "language_info": {
   "codemirror_mode": {
    "name": "ipython",
    "version": 3
   },
   "file_extension": ".py",
   "mimetype": "text/x-python",
   "name": "python",
   "nbconvert_exporter": "python",
   "pygments_lexer": "ipython3",
   "version": "3.9.12"
  }
 },
 "nbformat": 4,
 "nbformat_minor": 5
}
